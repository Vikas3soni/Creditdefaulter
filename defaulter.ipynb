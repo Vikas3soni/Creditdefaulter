{
  "nbformat": 4,
  "nbformat_minor": 0,
  "metadata": {
    "colab": {
      "name": "defaulter.ipynb",
      "version": "0.3.2",
      "provenance": [],
      "collapsed_sections": []
    },
    "kernelspec": {
      "name": "python3",
      "display_name": "Python 3"
    }
  },
  "cells": [
    {
      "metadata": {
        "id": "DBK6Z7jFxZCI",
        "colab_type": "text"
      },
      "cell_type": "markdown",
      "source": [
        "Loading the Dataset"
      ]
    },
    {
      "metadata": {
        "id": "IxOtj-1saaxN",
        "colab_type": "code",
        "outputId": "2f4bd4db-c497-46a9-d137-dd3f3b74398d",
        "colab": {
          "base_uri": "https://localhost:8080/",
          "height": 204
        }
      },
      "cell_type": "code",
      "source": [
        "import pandas as pd\n",
        "import numpy as np\n",
        "import matplotlib.pyplot as plt\n",
        "df = pd.read_csv(\"Avail_hmeq.csv\")\n",
        "df.head()"
      ],
      "execution_count": 0,
      "outputs": [
        {
          "output_type": "execute_result",
          "data": {
            "text/html": [
              "<div>\n",
              "<style scoped>\n",
              "    .dataframe tbody tr th:only-of-type {\n",
              "        vertical-align: middle;\n",
              "    }\n",
              "\n",
              "    .dataframe tbody tr th {\n",
              "        vertical-align: top;\n",
              "    }\n",
              "\n",
              "    .dataframe thead th {\n",
              "        text-align: right;\n",
              "    }\n",
              "</style>\n",
              "<table border=\"1\" class=\"dataframe\">\n",
              "  <thead>\n",
              "    <tr style=\"text-align: right;\">\n",
              "      <th></th>\n",
              "      <th>BAD</th>\n",
              "      <th>LOAN</th>\n",
              "      <th>MORTDUE</th>\n",
              "      <th>VALUE</th>\n",
              "      <th>REASON</th>\n",
              "      <th>JOB</th>\n",
              "      <th>YOJ</th>\n",
              "      <th>DEROG</th>\n",
              "      <th>DELINQ</th>\n",
              "      <th>CLAGE</th>\n",
              "      <th>NINQ</th>\n",
              "      <th>CLNO</th>\n",
              "      <th>DEBTINC</th>\n",
              "    </tr>\n",
              "  </thead>\n",
              "  <tbody>\n",
              "    <tr>\n",
              "      <th>0</th>\n",
              "      <td>1</td>\n",
              "      <td>1100</td>\n",
              "      <td>25860.0</td>\n",
              "      <td>39025.0</td>\n",
              "      <td>HomeImp</td>\n",
              "      <td>Other</td>\n",
              "      <td>10.5</td>\n",
              "      <td>0.0</td>\n",
              "      <td>0.0</td>\n",
              "      <td>94.366667</td>\n",
              "      <td>1.0</td>\n",
              "      <td>9.0</td>\n",
              "      <td>NaN</td>\n",
              "    </tr>\n",
              "    <tr>\n",
              "      <th>1</th>\n",
              "      <td>1</td>\n",
              "      <td>1300</td>\n",
              "      <td>70053.0</td>\n",
              "      <td>68400.0</td>\n",
              "      <td>HomeImp</td>\n",
              "      <td>Other</td>\n",
              "      <td>7.0</td>\n",
              "      <td>0.0</td>\n",
              "      <td>2.0</td>\n",
              "      <td>121.833333</td>\n",
              "      <td>0.0</td>\n",
              "      <td>14.0</td>\n",
              "      <td>NaN</td>\n",
              "    </tr>\n",
              "    <tr>\n",
              "      <th>2</th>\n",
              "      <td>1</td>\n",
              "      <td>1500</td>\n",
              "      <td>13500.0</td>\n",
              "      <td>16700.0</td>\n",
              "      <td>HomeImp</td>\n",
              "      <td>Other</td>\n",
              "      <td>4.0</td>\n",
              "      <td>0.0</td>\n",
              "      <td>0.0</td>\n",
              "      <td>149.466667</td>\n",
              "      <td>1.0</td>\n",
              "      <td>10.0</td>\n",
              "      <td>NaN</td>\n",
              "    </tr>\n",
              "    <tr>\n",
              "      <th>3</th>\n",
              "      <td>1</td>\n",
              "      <td>1500</td>\n",
              "      <td>NaN</td>\n",
              "      <td>NaN</td>\n",
              "      <td>NaN</td>\n",
              "      <td>NaN</td>\n",
              "      <td>NaN</td>\n",
              "      <td>NaN</td>\n",
              "      <td>NaN</td>\n",
              "      <td>NaN</td>\n",
              "      <td>NaN</td>\n",
              "      <td>NaN</td>\n",
              "      <td>NaN</td>\n",
              "    </tr>\n",
              "    <tr>\n",
              "      <th>4</th>\n",
              "      <td>0</td>\n",
              "      <td>1700</td>\n",
              "      <td>97800.0</td>\n",
              "      <td>112000.0</td>\n",
              "      <td>HomeImp</td>\n",
              "      <td>Office</td>\n",
              "      <td>3.0</td>\n",
              "      <td>0.0</td>\n",
              "      <td>0.0</td>\n",
              "      <td>93.333333</td>\n",
              "      <td>0.0</td>\n",
              "      <td>14.0</td>\n",
              "      <td>NaN</td>\n",
              "    </tr>\n",
              "  </tbody>\n",
              "</table>\n",
              "</div>"
            ],
            "text/plain": [
              "   BAD  LOAN  MORTDUE     VALUE   REASON     JOB   YOJ  DEROG  DELINQ  \\\n",
              "0    1  1100  25860.0   39025.0  HomeImp   Other  10.5    0.0     0.0   \n",
              "1    1  1300  70053.0   68400.0  HomeImp   Other   7.0    0.0     2.0   \n",
              "2    1  1500  13500.0   16700.0  HomeImp   Other   4.0    0.0     0.0   \n",
              "3    1  1500      NaN       NaN      NaN     NaN   NaN    NaN     NaN   \n",
              "4    0  1700  97800.0  112000.0  HomeImp  Office   3.0    0.0     0.0   \n",
              "\n",
              "        CLAGE  NINQ  CLNO  DEBTINC  \n",
              "0   94.366667   1.0   9.0      NaN  \n",
              "1  121.833333   0.0  14.0      NaN  \n",
              "2  149.466667   1.0  10.0      NaN  \n",
              "3         NaN   NaN   NaN      NaN  \n",
              "4   93.333333   0.0  14.0      NaN  "
            ]
          },
          "metadata": {
            "tags": []
          },
          "execution_count": 22
        }
      ]
    },
    {
      "metadata": {
        "id": "rpwgoO5Txj1a",
        "colab_type": "text"
      },
      "cell_type": "markdown",
      "source": [
        "### First understand the Dataset"
      ]
    },
    {
      "metadata": {
        "id": "iZUIx-ywntpw",
        "colab_type": "code",
        "outputId": "b90003e5-7d17-4366-d716-31135054467e",
        "colab": {
          "base_uri": "https://localhost:8080/",
          "height": 34
        }
      },
      "cell_type": "code",
      "source": [
        "df.shape"
      ],
      "execution_count": 0,
      "outputs": [
        {
          "output_type": "execute_result",
          "data": {
            "text/plain": [
              "(5960, 13)"
            ]
          },
          "metadata": {
            "tags": []
          },
          "execution_count": 2
        }
      ]
    },
    {
      "metadata": {
        "id": "I_sNmzqpeRea",
        "colab_type": "text"
      },
      "cell_type": "markdown",
      "source": [
        "Data Type"
      ]
    },
    {
      "metadata": {
        "id": "65_FbXKXn0wF",
        "colab_type": "code",
        "outputId": "dd7e3556-aa92-4b54-ffcc-bff5a06612e0",
        "colab": {
          "base_uri": "https://localhost:8080/",
          "height": 85
        }
      },
      "cell_type": "code",
      "source": [
        "df.dtypes.value_counts()"
      ],
      "execution_count": 0,
      "outputs": [
        {
          "output_type": "execute_result",
          "data": {
            "text/plain": [
              "float64    9\n",
              "object     2\n",
              "int64      2\n",
              "dtype: int64"
            ]
          },
          "metadata": {
            "tags": []
          },
          "execution_count": 3
        }
      ]
    },
    {
      "metadata": {
        "id": "9fJEi_dMpauJ",
        "colab_type": "code",
        "outputId": "ddb5f4ab-ca05-4365-d233-0e5d47cd339e",
        "colab": {
          "base_uri": "https://localhost:8080/",
          "height": 68
        }
      },
      "cell_type": "code",
      "source": [
        "df.columns"
      ],
      "execution_count": 0,
      "outputs": [
        {
          "output_type": "execute_result",
          "data": {
            "text/plain": [
              "Index(['BAD', 'LOAN', 'MORTDUE', 'VALUE', 'REASON', 'JOB', 'YOJ', 'DEROG',\n",
              "       'DELINQ', 'CLAGE', 'NINQ', 'CLNO', 'DEBTINC'],\n",
              "      dtype='object')"
            ]
          },
          "metadata": {
            "tags": []
          },
          "execution_count": 4
        }
      ]
    },
    {
      "metadata": {
        "id": "4njgb08xx0yu",
        "colab_type": "text"
      },
      "cell_type": "markdown",
      "source": [
        "Statistical values for dataset"
      ]
    },
    {
      "metadata": {
        "id": "h6x6JozIoCSd",
        "colab_type": "code",
        "outputId": "082987b8-8451-4f8a-c851-c9d2d0d054f0",
        "colab": {
          "base_uri": "https://localhost:8080/",
          "height": 297
        }
      },
      "cell_type": "code",
      "source": [
        "df.describe()"
      ],
      "execution_count": 0,
      "outputs": [
        {
          "output_type": "execute_result",
          "data": {
            "text/html": [
              "<div>\n",
              "<style scoped>\n",
              "    .dataframe tbody tr th:only-of-type {\n",
              "        vertical-align: middle;\n",
              "    }\n",
              "\n",
              "    .dataframe tbody tr th {\n",
              "        vertical-align: top;\n",
              "    }\n",
              "\n",
              "    .dataframe thead th {\n",
              "        text-align: right;\n",
              "    }\n",
              "</style>\n",
              "<table border=\"1\" class=\"dataframe\">\n",
              "  <thead>\n",
              "    <tr style=\"text-align: right;\">\n",
              "      <th></th>\n",
              "      <th>BAD</th>\n",
              "      <th>LOAN</th>\n",
              "      <th>MORTDUE</th>\n",
              "      <th>VALUE</th>\n",
              "      <th>YOJ</th>\n",
              "      <th>DEROG</th>\n",
              "      <th>DELINQ</th>\n",
              "      <th>CLAGE</th>\n",
              "      <th>NINQ</th>\n",
              "      <th>CLNO</th>\n",
              "      <th>DEBTINC</th>\n",
              "    </tr>\n",
              "  </thead>\n",
              "  <tbody>\n",
              "    <tr>\n",
              "      <th>count</th>\n",
              "      <td>5960.000000</td>\n",
              "      <td>5960.000000</td>\n",
              "      <td>5442.000000</td>\n",
              "      <td>5848.000000</td>\n",
              "      <td>5445.000000</td>\n",
              "      <td>5252.000000</td>\n",
              "      <td>5380.000000</td>\n",
              "      <td>5652.000000</td>\n",
              "      <td>5450.000000</td>\n",
              "      <td>5738.000000</td>\n",
              "      <td>4693.000000</td>\n",
              "    </tr>\n",
              "    <tr>\n",
              "      <th>mean</th>\n",
              "      <td>0.199497</td>\n",
              "      <td>18607.969799</td>\n",
              "      <td>73760.817200</td>\n",
              "      <td>101776.048741</td>\n",
              "      <td>8.922268</td>\n",
              "      <td>0.254570</td>\n",
              "      <td>0.449442</td>\n",
              "      <td>179.766275</td>\n",
              "      <td>1.186055</td>\n",
              "      <td>21.296096</td>\n",
              "      <td>33.779915</td>\n",
              "    </tr>\n",
              "    <tr>\n",
              "      <th>std</th>\n",
              "      <td>0.399656</td>\n",
              "      <td>11207.480417</td>\n",
              "      <td>44457.609458</td>\n",
              "      <td>57385.775334</td>\n",
              "      <td>7.573982</td>\n",
              "      <td>0.846047</td>\n",
              "      <td>1.127266</td>\n",
              "      <td>85.810092</td>\n",
              "      <td>1.728675</td>\n",
              "      <td>10.138933</td>\n",
              "      <td>8.601746</td>\n",
              "    </tr>\n",
              "    <tr>\n",
              "      <th>min</th>\n",
              "      <td>0.000000</td>\n",
              "      <td>1100.000000</td>\n",
              "      <td>2063.000000</td>\n",
              "      <td>8000.000000</td>\n",
              "      <td>0.000000</td>\n",
              "      <td>0.000000</td>\n",
              "      <td>0.000000</td>\n",
              "      <td>0.000000</td>\n",
              "      <td>0.000000</td>\n",
              "      <td>0.000000</td>\n",
              "      <td>0.524499</td>\n",
              "    </tr>\n",
              "    <tr>\n",
              "      <th>25%</th>\n",
              "      <td>0.000000</td>\n",
              "      <td>11100.000000</td>\n",
              "      <td>46276.000000</td>\n",
              "      <td>66075.500000</td>\n",
              "      <td>3.000000</td>\n",
              "      <td>0.000000</td>\n",
              "      <td>0.000000</td>\n",
              "      <td>115.116702</td>\n",
              "      <td>0.000000</td>\n",
              "      <td>15.000000</td>\n",
              "      <td>29.140031</td>\n",
              "    </tr>\n",
              "    <tr>\n",
              "      <th>50%</th>\n",
              "      <td>0.000000</td>\n",
              "      <td>16300.000000</td>\n",
              "      <td>65019.000000</td>\n",
              "      <td>89235.500000</td>\n",
              "      <td>7.000000</td>\n",
              "      <td>0.000000</td>\n",
              "      <td>0.000000</td>\n",
              "      <td>173.466667</td>\n",
              "      <td>1.000000</td>\n",
              "      <td>20.000000</td>\n",
              "      <td>34.818262</td>\n",
              "    </tr>\n",
              "    <tr>\n",
              "      <th>75%</th>\n",
              "      <td>0.000000</td>\n",
              "      <td>23300.000000</td>\n",
              "      <td>91488.000000</td>\n",
              "      <td>119824.250000</td>\n",
              "      <td>13.000000</td>\n",
              "      <td>0.000000</td>\n",
              "      <td>0.000000</td>\n",
              "      <td>231.562278</td>\n",
              "      <td>2.000000</td>\n",
              "      <td>26.000000</td>\n",
              "      <td>39.003141</td>\n",
              "    </tr>\n",
              "    <tr>\n",
              "      <th>max</th>\n",
              "      <td>1.000000</td>\n",
              "      <td>89900.000000</td>\n",
              "      <td>399550.000000</td>\n",
              "      <td>855909.000000</td>\n",
              "      <td>41.000000</td>\n",
              "      <td>10.000000</td>\n",
              "      <td>15.000000</td>\n",
              "      <td>1168.233561</td>\n",
              "      <td>17.000000</td>\n",
              "      <td>71.000000</td>\n",
              "      <td>203.312149</td>\n",
              "    </tr>\n",
              "  </tbody>\n",
              "</table>\n",
              "</div>"
            ],
            "text/plain": [
              "               BAD          LOAN        MORTDUE          VALUE          YOJ  \\\n",
              "count  5960.000000   5960.000000    5442.000000    5848.000000  5445.000000   \n",
              "mean      0.199497  18607.969799   73760.817200  101776.048741     8.922268   \n",
              "std       0.399656  11207.480417   44457.609458   57385.775334     7.573982   \n",
              "min       0.000000   1100.000000    2063.000000    8000.000000     0.000000   \n",
              "25%       0.000000  11100.000000   46276.000000   66075.500000     3.000000   \n",
              "50%       0.000000  16300.000000   65019.000000   89235.500000     7.000000   \n",
              "75%       0.000000  23300.000000   91488.000000  119824.250000    13.000000   \n",
              "max       1.000000  89900.000000  399550.000000  855909.000000    41.000000   \n",
              "\n",
              "             DEROG       DELINQ        CLAGE         NINQ         CLNO  \\\n",
              "count  5252.000000  5380.000000  5652.000000  5450.000000  5738.000000   \n",
              "mean      0.254570     0.449442   179.766275     1.186055    21.296096   \n",
              "std       0.846047     1.127266    85.810092     1.728675    10.138933   \n",
              "min       0.000000     0.000000     0.000000     0.000000     0.000000   \n",
              "25%       0.000000     0.000000   115.116702     0.000000    15.000000   \n",
              "50%       0.000000     0.000000   173.466667     1.000000    20.000000   \n",
              "75%       0.000000     0.000000   231.562278     2.000000    26.000000   \n",
              "max      10.000000    15.000000  1168.233561    17.000000    71.000000   \n",
              "\n",
              "           DEBTINC  \n",
              "count  4693.000000  \n",
              "mean     33.779915  \n",
              "std       8.601746  \n",
              "min       0.524499  \n",
              "25%      29.140031  \n",
              "50%      34.818262  \n",
              "75%      39.003141  \n",
              "max     203.312149  "
            ]
          },
          "metadata": {
            "tags": []
          },
          "execution_count": 5
        }
      ]
    },
    {
      "metadata": {
        "id": "O0KV5-Y8x82v",
        "colab_type": "text"
      },
      "cell_type": "markdown",
      "source": [
        "### **Target value**"
      ]
    },
    {
      "metadata": {
        "id": "ClMsXLKvyEN-",
        "colab_type": "text"
      },
      "cell_type": "markdown",
      "source": [
        "As part of data, Target data set in 80/20 ratio. the dataset is **Imbalance.**"
      ]
    },
    {
      "metadata": {
        "id": "VfhvM7Ezpps2",
        "colab_type": "code",
        "outputId": "bee53f85-dd91-48a5-9f07-d1dc35e3995f",
        "colab": {
          "base_uri": "https://localhost:8080/",
          "height": 68
        }
      },
      "cell_type": "code",
      "source": [
        "df[\"BAD\"].value_counts(normalize=True)"
      ],
      "execution_count": 0,
      "outputs": [
        {
          "output_type": "execute_result",
          "data": {
            "text/plain": [
              "0    0.800503\n",
              "1    0.199497\n",
              "Name: BAD, dtype: float64"
            ]
          },
          "metadata": {
            "tags": []
          },
          "execution_count": 6
        }
      ]
    },
    {
      "metadata": {
        "id": "kj8VjzckyY-e",
        "colab_type": "text"
      },
      "cell_type": "markdown",
      "source": [
        "Later on in sheet we will use SMOTE oversampling method to balance out the data to get a better results from model."
      ]
    },
    {
      "metadata": {
        "id": "p0EpkPd1ypwD",
        "colab_type": "text"
      },
      "cell_type": "markdown",
      "source": [
        "## Pre porcessing and Understanding the data Features"
      ]
    },
    {
      "metadata": {
        "id": "C4OvPsHiy6hg",
        "colab_type": "text"
      },
      "cell_type": "markdown",
      "source": [
        "**Missing value in the dataset **"
      ]
    },
    {
      "metadata": {
        "id": "qDiZQ7zXoU7i",
        "colab_type": "code",
        "outputId": "5f99189b-a18c-447f-f21a-15648b13023d",
        "colab": {
          "base_uri": "https://localhost:8080/",
          "height": 255
        }
      },
      "cell_type": "code",
      "source": [
        "df.isna().sum()"
      ],
      "execution_count": 0,
      "outputs": [
        {
          "output_type": "execute_result",
          "data": {
            "text/plain": [
              "BAD           0\n",
              "LOAN          0\n",
              "MORTDUE     518\n",
              "VALUE       112\n",
              "REASON      252\n",
              "JOB         279\n",
              "YOJ         515\n",
              "DEROG       708\n",
              "DELINQ      580\n",
              "CLAGE       308\n",
              "NINQ        510\n",
              "CLNO        222\n",
              "DEBTINC    1267\n",
              "dtype: int64"
            ]
          },
          "metadata": {
            "tags": []
          },
          "execution_count": 7
        }
      ]
    },
    {
      "metadata": {
        "id": "DcSPLeYuqwFK",
        "colab_type": "text"
      },
      "cell_type": "markdown",
      "source": [
        "**Let's check categorial feature count wise**"
      ]
    },
    {
      "metadata": {
        "id": "yKhw7Bfop6Yi",
        "colab_type": "code",
        "outputId": "7de11183-b680-4c6b-bf15-cec2432f92c5",
        "colab": {
          "base_uri": "https://localhost:8080/",
          "height": 68
        }
      },
      "cell_type": "code",
      "source": [
        "df[\"REASON\"].value_counts()"
      ],
      "execution_count": 0,
      "outputs": [
        {
          "output_type": "execute_result",
          "data": {
            "text/plain": [
              "DebtCon    3928\n",
              "HomeImp    1780\n",
              "Name: REASON, dtype: int64"
            ]
          },
          "metadata": {
            "tags": []
          },
          "execution_count": 8
        }
      ]
    },
    {
      "metadata": {
        "id": "s2FFJCpDLaTk",
        "colab_type": "code",
        "outputId": "777cf9b6-8048-49b6-f559-46eac6eaddee",
        "colab": {
          "base_uri": "https://localhost:8080/",
          "height": 145
        }
      },
      "cell_type": "code",
      "source": [
        "reason = df.groupby('REASON')\n",
        "reason['BAD'].value_counts(normalize=True).to_frame().style.format(\"{:.1%}\")"
      ],
      "execution_count": 0,
      "outputs": [
        {
          "output_type": "execute_result",
          "data": {
            "text/html": [
              "<style  type=\"text/css\" >\n",
              "</style>  \n",
              "<table id=\"T_47674be0_364f_11e9_a9de_0242ac1c0002\" > \n",
              "<thead>    <tr> \n",
              "        <th class=\"blank\" ></th> \n",
              "        <th class=\"blank level0\" ></th> \n",
              "        <th class=\"col_heading level0 col0\" >BAD</th> \n",
              "    </tr>    <tr> \n",
              "        <th class=\"index_name level0\" >REASON</th> \n",
              "        <th class=\"index_name level1\" >BAD</th> \n",
              "        <th class=\"blank\" ></th> \n",
              "    </tr></thead> \n",
              "<tbody>    <tr> \n",
              "        <th id=\"T_47674be0_364f_11e9_a9de_0242ac1c0002level0_row0\" class=\"row_heading level0 row0\" rowspan=2>DebtCon</th> \n",
              "        <th id=\"T_47674be0_364f_11e9_a9de_0242ac1c0002level1_row0\" class=\"row_heading level1 row0\" >0</th> \n",
              "        <td id=\"T_47674be0_364f_11e9_a9de_0242ac1c0002row0_col0\" class=\"data row0 col0\" >81.0%</td> \n",
              "    </tr>    <tr> \n",
              "        <th id=\"T_47674be0_364f_11e9_a9de_0242ac1c0002level1_row1\" class=\"row_heading level1 row1\" >1</th> \n",
              "        <td id=\"T_47674be0_364f_11e9_a9de_0242ac1c0002row1_col0\" class=\"data row1 col0\" >19.0%</td> \n",
              "    </tr>    <tr> \n",
              "        <th id=\"T_47674be0_364f_11e9_a9de_0242ac1c0002level0_row2\" class=\"row_heading level0 row2\" rowspan=2>HomeImp</th> \n",
              "        <th id=\"T_47674be0_364f_11e9_a9de_0242ac1c0002level1_row2\" class=\"row_heading level1 row2\" >0</th> \n",
              "        <td id=\"T_47674be0_364f_11e9_a9de_0242ac1c0002row2_col0\" class=\"data row2 col0\" >77.8%</td> \n",
              "    </tr>    <tr> \n",
              "        <th id=\"T_47674be0_364f_11e9_a9de_0242ac1c0002level1_row3\" class=\"row_heading level1 row3\" >1</th> \n",
              "        <td id=\"T_47674be0_364f_11e9_a9de_0242ac1c0002row3_col0\" class=\"data row3 col0\" >22.2%</td> \n",
              "    </tr></tbody> \n",
              "</table> "
            ],
            "text/plain": [
              "<pandas.io.formats.style.Styler at 0x7f65b1165320>"
            ]
          },
          "metadata": {
            "tags": []
          },
          "execution_count": 5
        }
      ]
    },
    {
      "metadata": {
        "id": "Ms1zgCqxLqkk",
        "colab_type": "text"
      },
      "cell_type": "markdown",
      "source": [
        "**Comment**\n",
        "\n",
        "loan do not seem to depend strongly on the REASON."
      ]
    },
    {
      "metadata": {
        "id": "wnKr8yhxqimp",
        "colab_type": "code",
        "outputId": "717a79da-e151-48b9-f303-1db716050b1f",
        "colab": {
          "base_uri": "https://localhost:8080/",
          "height": 136
        }
      },
      "cell_type": "code",
      "source": [
        "df[\"JOB\"].value_counts()"
      ],
      "execution_count": 0,
      "outputs": [
        {
          "output_type": "execute_result",
          "data": {
            "text/plain": [
              "Other      2388\n",
              "ProfExe    1276\n",
              "Office      948\n",
              "Mgr         767\n",
              "Self        193\n",
              "Sales       109\n",
              "Name: JOB, dtype: int64"
            ]
          },
          "metadata": {
            "tags": []
          },
          "execution_count": 9
        }
      ]
    },
    {
      "metadata": {
        "id": "TYiSFOyEDcPE",
        "colab_type": "text"
      },
      "cell_type": "markdown",
      "source": [
        "**Comment**\n",
        "\n",
        "Office worker and professional executives have the highest probability to pay their loans while sales and self employed have the highest probability to default. The occupation shows a good discriminating power and it will most likely be an important feature of our classification model\n"
      ]
    },
    {
      "metadata": {
        "id": "ISUfENS1Jp3y",
        "colab_type": "code",
        "outputId": "453dc446-8bd0-4149-8259-c427adbcb1ce",
        "colab": {
          "base_uri": "https://localhost:8080/",
          "height": 313
        }
      },
      "cell_type": "code",
      "source": [
        "job = df.groupby('JOB')\n",
        "job['BAD'].value_counts(normalize=True).to_frame().style.format(\"{:.1%}\")"
      ],
      "execution_count": 0,
      "outputs": [
        {
          "output_type": "execute_result",
          "data": {
            "text/html": [
              "<style  type=\"text/css\" >\n",
              "</style>  \n",
              "<table id=\"T_b35cddc0_364e_11e9_a9de_0242ac1c0002\" > \n",
              "<thead>    <tr> \n",
              "        <th class=\"blank\" ></th> \n",
              "        <th class=\"blank level0\" ></th> \n",
              "        <th class=\"col_heading level0 col0\" >BAD</th> \n",
              "    </tr>    <tr> \n",
              "        <th class=\"index_name level0\" >JOB</th> \n",
              "        <th class=\"index_name level1\" >BAD</th> \n",
              "        <th class=\"blank\" ></th> \n",
              "    </tr></thead> \n",
              "<tbody>    <tr> \n",
              "        <th id=\"T_b35cddc0_364e_11e9_a9de_0242ac1c0002level0_row0\" class=\"row_heading level0 row0\" rowspan=2>Mgr</th> \n",
              "        <th id=\"T_b35cddc0_364e_11e9_a9de_0242ac1c0002level1_row0\" class=\"row_heading level1 row0\" >0</th> \n",
              "        <td id=\"T_b35cddc0_364e_11e9_a9de_0242ac1c0002row0_col0\" class=\"data row0 col0\" >76.7%</td> \n",
              "    </tr>    <tr> \n",
              "        <th id=\"T_b35cddc0_364e_11e9_a9de_0242ac1c0002level1_row1\" class=\"row_heading level1 row1\" >1</th> \n",
              "        <td id=\"T_b35cddc0_364e_11e9_a9de_0242ac1c0002row1_col0\" class=\"data row1 col0\" >23.3%</td> \n",
              "    </tr>    <tr> \n",
              "        <th id=\"T_b35cddc0_364e_11e9_a9de_0242ac1c0002level0_row2\" class=\"row_heading level0 row2\" rowspan=2>Office</th> \n",
              "        <th id=\"T_b35cddc0_364e_11e9_a9de_0242ac1c0002level1_row2\" class=\"row_heading level1 row2\" >0</th> \n",
              "        <td id=\"T_b35cddc0_364e_11e9_a9de_0242ac1c0002row2_col0\" class=\"data row2 col0\" >86.8%</td> \n",
              "    </tr>    <tr> \n",
              "        <th id=\"T_b35cddc0_364e_11e9_a9de_0242ac1c0002level1_row3\" class=\"row_heading level1 row3\" >1</th> \n",
              "        <td id=\"T_b35cddc0_364e_11e9_a9de_0242ac1c0002row3_col0\" class=\"data row3 col0\" >13.2%</td> \n",
              "    </tr>    <tr> \n",
              "        <th id=\"T_b35cddc0_364e_11e9_a9de_0242ac1c0002level0_row4\" class=\"row_heading level0 row4\" rowspan=2>Other</th> \n",
              "        <th id=\"T_b35cddc0_364e_11e9_a9de_0242ac1c0002level1_row4\" class=\"row_heading level1 row4\" >0</th> \n",
              "        <td id=\"T_b35cddc0_364e_11e9_a9de_0242ac1c0002row4_col0\" class=\"data row4 col0\" >76.8%</td> \n",
              "    </tr>    <tr> \n",
              "        <th id=\"T_b35cddc0_364e_11e9_a9de_0242ac1c0002level1_row5\" class=\"row_heading level1 row5\" >1</th> \n",
              "        <td id=\"T_b35cddc0_364e_11e9_a9de_0242ac1c0002row5_col0\" class=\"data row5 col0\" >23.2%</td> \n",
              "    </tr>    <tr> \n",
              "        <th id=\"T_b35cddc0_364e_11e9_a9de_0242ac1c0002level0_row6\" class=\"row_heading level0 row6\" rowspan=2>ProfExe</th> \n",
              "        <th id=\"T_b35cddc0_364e_11e9_a9de_0242ac1c0002level1_row6\" class=\"row_heading level1 row6\" >0</th> \n",
              "        <td id=\"T_b35cddc0_364e_11e9_a9de_0242ac1c0002row6_col0\" class=\"data row6 col0\" >83.4%</td> \n",
              "    </tr>    <tr> \n",
              "        <th id=\"T_b35cddc0_364e_11e9_a9de_0242ac1c0002level1_row7\" class=\"row_heading level1 row7\" >1</th> \n",
              "        <td id=\"T_b35cddc0_364e_11e9_a9de_0242ac1c0002row7_col0\" class=\"data row7 col0\" >16.6%</td> \n",
              "    </tr>    <tr> \n",
              "        <th id=\"T_b35cddc0_364e_11e9_a9de_0242ac1c0002level0_row8\" class=\"row_heading level0 row8\" rowspan=2>Sales</th> \n",
              "        <th id=\"T_b35cddc0_364e_11e9_a9de_0242ac1c0002level1_row8\" class=\"row_heading level1 row8\" >0</th> \n",
              "        <td id=\"T_b35cddc0_364e_11e9_a9de_0242ac1c0002row8_col0\" class=\"data row8 col0\" >65.1%</td> \n",
              "    </tr>    <tr> \n",
              "        <th id=\"T_b35cddc0_364e_11e9_a9de_0242ac1c0002level1_row9\" class=\"row_heading level1 row9\" >1</th> \n",
              "        <td id=\"T_b35cddc0_364e_11e9_a9de_0242ac1c0002row9_col0\" class=\"data row9 col0\" >34.9%</td> \n",
              "    </tr>    <tr> \n",
              "        <th id=\"T_b35cddc0_364e_11e9_a9de_0242ac1c0002level0_row10\" class=\"row_heading level0 row10\" rowspan=2>Self</th> \n",
              "        <th id=\"T_b35cddc0_364e_11e9_a9de_0242ac1c0002level1_row10\" class=\"row_heading level1 row10\" >0</th> \n",
              "        <td id=\"T_b35cddc0_364e_11e9_a9de_0242ac1c0002row10_col0\" class=\"data row10 col0\" >69.9%</td> \n",
              "    </tr>    <tr> \n",
              "        <th id=\"T_b35cddc0_364e_11e9_a9de_0242ac1c0002level1_row11\" class=\"row_heading level1 row11\" >1</th> \n",
              "        <td id=\"T_b35cddc0_364e_11e9_a9de_0242ac1c0002row11_col0\" class=\"data row11 col0\" >30.1%</td> \n",
              "    </tr></tbody> \n",
              "</table> "
            ],
            "text/plain": [
              "<pandas.io.formats.style.Styler at 0x7f65b171ccf8>"
            ]
          },
          "metadata": {
            "tags": []
          },
          "execution_count": 4
        }
      ]
    },
    {
      "metadata": {
        "id": "BJkxM-7fzVTB",
        "colab_type": "text"
      },
      "cell_type": "markdown",
      "source": [
        "later on for imputing missing value for above  **categorial features**  we will use most frequest ( Mode ) technique."
      ]
    },
    {
      "metadata": {
        "id": "APtahiryz4T8",
        "colab_type": "text"
      },
      "cell_type": "markdown",
      "source": [
        "### Let's check the distribution of the features"
      ]
    },
    {
      "metadata": {
        "id": "1K1dKbOIqt9n",
        "colab_type": "code",
        "outputId": "cb42e860-61af-4d87-a1ab-8137b8945705",
        "colab": {
          "base_uri": "https://localhost:8080/",
          "height": 688
        }
      },
      "cell_type": "code",
      "source": [
        "import seaborn as sns\n",
        "plt.figure(figsize=(10,10))\n",
        "plt.subplot(321)\n",
        "ax1=sns.distplot(df['LOAN'])\n",
        "ax1.set_title('Loan')\n",
        "plt.subplot(322)\n",
        "ax2=df[\"DEBTINC\"].plot.hist(bins = 20)\n",
        "ax2.set_title('DEBTINC')\n",
        "plt.subplot(323)\n",
        "ax3=df[\"CLAGE\"].plot.hist(bins = 20)\n",
        "ax3.set_title('CLAGE')\n",
        "plt.subplot(324)\n",
        "ax4=df[\"CLNO\"].plot.hist(bins = 20)\n",
        "ax4.set_title('CLNO')\n",
        "plt.subplot(325)\n",
        "ax5=df[\"VALUE\"].plot.hist(bins = 80)\n",
        "ax5.set_xlabel('VALUE')\n",
        "plt.subplot(326)\n",
        "ax6=df[\"YOJ\"].plot.hist(bins = 40)\n",
        "ax6.set_xlabel('YOJ')"
      ],
      "execution_count": 0,
      "outputs": [
        {
          "output_type": "stream",
          "text": [
            "/usr/local/lib/python3.6/dist-packages/matplotlib/axes/_axes.py:6521: MatplotlibDeprecationWarning: \n",
            "The 'normed' kwarg was deprecated in Matplotlib 2.1 and will be removed in 3.1. Use 'density' instead.\n",
            "  alternative=\"'density'\", removal=\"3.1\")\n"
          ],
          "name": "stderr"
        },
        {
          "output_type": "execute_result",
          "data": {
            "text/plain": [
              "Text(0.5, 0, 'YOJ')"
            ]
          },
          "metadata": {
            "tags": []
          },
          "execution_count": 10
        },
        {
          "output_type": "display_data",
          "data": {
            "image/png": "[encoded data removed]",
            "text/plain": [
              "<Figure size 720x720 with 6 Axes>"
            ]
          },
          "metadata": {
            "tags": []
          }
        }
      ]
    },
    {
      "metadata": {
        "id": "Yf2ULbTA0IG6",
        "colab_type": "text"
      },
      "cell_type": "markdown",
      "source": [
        "**Comment**\n",
        "\n",
        "We can use cappping technique to remobe extreme value and reshaping it to normal distribution.\n",
        "\n",
        "'YOG' feature which is hight skewed we will transform it using log transformation.\n",
        "\n",
        "'VALUE' and 'CLAG' feature value more than 400k and 500 respectively can be capped.\n",
        "\n",
        "'CLNO' feature is centered around good distribution\n"
      ]
    },
    {
      "metadata": {
        "id": "cuW44Wzq0QaG",
        "colab_type": "text"
      },
      "cell_type": "markdown",
      "source": [
        "### Imputation "
      ]
    },
    {
      "metadata": {
        "id": "ZlWSnlV10hOw",
        "colab_type": "text"
      },
      "cell_type": "markdown",
      "source": [
        "By understanding the distribution and box plot below we can take the decision for imputing missing value."
      ]
    },
    {
      "metadata": {
        "id": "F3gCA1bPNFC6",
        "colab_type": "text"
      },
      "cell_type": "markdown",
      "source": [
        "For Categorical feature we are using Mode(most frequent)  imputation menthod.\n",
        "\n",
        "For Numerical feature we are going to use Mean( rest) and Median('for YOG') method"
      ]
    },
    {
      "metadata": {
        "id": "wt1mIc_51g4X",
        "colab_type": "code",
        "colab": {}
      },
      "cell_type": "code",
      "source": [
        "df[\"REASON\"].fillna(value = \"DebtCon\",inplace = True)\n",
        "df[\"JOB\"].fillna(value = \"Other\",inplace = True)\n",
        "df[\"DEROG\"].fillna(value=0,inplace=True)\n",
        "df[\"DELINQ\"].fillna(value=0,inplace=True)\n",
        "df['YOJ'].fillna(value=df.median(),inplace=True)"
      ],
      "execution_count": 0,
      "outputs": []
    },
    {
      "metadata": {
        "id": "Qmz7jBUNs7Sg",
        "colab_type": "code",
        "colab": {}
      },
      "cell_type": "code",
      "source": [
        "df.fillna(value=df.mean(),inplace=True)"
      ],
      "execution_count": 0,
      "outputs": []
    },
    {
      "metadata": {
        "id": "gW_v8ih502U5",
        "colab_type": "text"
      },
      "cell_type": "markdown",
      "source": [
        "###Box plot visulization for Outlier and feature transformation"
      ]
    },
    {
      "metadata": {
        "id": "UOyGlqSjNxNE",
        "colab_type": "text"
      },
      "cell_type": "markdown",
      "source": [
        "for capping feature as well as for outlier let's plot "
      ]
    },
    {
      "metadata": {
        "id": "lpmL7bBqytQ6",
        "colab_type": "code",
        "outputId": "bf8ef4dc-6eda-40f8-ae8d-97c402b7dca5",
        "colab": {
          "base_uri": "https://localhost:8080/",
          "height": 609
        }
      },
      "cell_type": "code",
      "source": [
        "plt.figure(figsize=(10,10))\n",
        "plt.subplot(321)\n",
        "ax1=sns.boxplot(y=df['LOAN'])\n",
        "#title('Loan')\n",
        "plt.subplot(322)\n",
        "\n",
        "ax2=sns.boxplot(y=df['DEBTINC'])\n",
        "plt.subplot(323)\n",
        "\n",
        "ax3=sns.boxplot(y=df['CLAGE'])\n",
        "plt.subplot(324)\n",
        "\n",
        "ax4=sns.boxplot(y=df['CLNO'])\n",
        "plt.subplot(325)\n",
        "\n",
        "ax5=sns.boxplot(y=df['VALUE'])\n",
        "plt.subplot(326)\n",
        "\n",
        "ax1=sns.boxplot(y=df['YOJ'])"
      ],
      "execution_count": 0,
      "outputs": [
        {
          "output_type": "stream",
          "text": [
            "/usr/local/lib/python3.6/dist-packages/seaborn/categorical.py:454: FutureWarning: remove_na is deprecated and is a private function. Do not use.\n",
            "  box_data = remove_na(group_data)\n"
          ],
          "name": "stderr"
        },
        {
          "output_type": "display_data",
          "data": {
            "image/png": "[encoded data removed]",
            "text/plain": [
              "<Figure size 720x720 with 6 Axes>"
            ]
          },
          "metadata": {
            "tags": []
          }
        }
      ]
    },
    {
      "metadata": {
        "id": "znqIFoTdOHOo",
        "colab_type": "text"
      },
      "cell_type": "markdown",
      "source": [
        "Form above we can see quite a few feature have a little amount of outlier.\n",
        "\n",
        "To improve model from outlier we are capping feature and further remove some as part of feature selection."
      ]
    },
    {
      "metadata": {
        "id": "4mvpsbR61Gp9",
        "colab_type": "text"
      },
      "cell_type": "markdown",
      "source": [
        "### **Feature transform**"
      ]
    },
    {
      "metadata": {
        "id": "nCQetfcE2s7j",
        "colab_type": "code",
        "colab": {}
      },
      "cell_type": "code",
      "source": [
        "df.loc[df[\"CLAGE\"]>=500,\"CLAGE\"] = 500\n",
        "df.loc[df[\"VALUE\"]>=400000,\"VALUE\"] = 400000\n",
        "df.loc[df[\"MORTDUE\"]>=300000,\"MORTDUE\"] = 300000\n",
        "df.loc[df[\"DEBTINC\"]>=100,\"DEBTINC\"] = 100"
      ],
      "execution_count": 0,
      "outputs": []
    },
    {
      "metadata": {
        "id": "AtB1mcqD1O-L",
        "colab_type": "text"
      },
      "cell_type": "markdown",
      "source": [
        "Feature \"YOG\" have highly skewed as we have seen in distribution plot as we are using **box-cox transformation.**"
      ]
    },
    {
      "metadata": {
        "id": "Jgn1Wx9a5bJf",
        "colab_type": "code",
        "colab": {}
      },
      "cell_type": "code",
      "source": [
        "df[\"YOJ\"] = df[\"YOJ\"].apply(lambda x: np.log(x+1))"
      ],
      "execution_count": 0,
      "outputs": []
    },
    {
      "metadata": {
        "id": "8fazFaFax44N",
        "colab_type": "code",
        "colab": {}
      },
      "cell_type": "code",
      "source": [
        "#df['LTV']=df['LOAN']/df['VALUE']"
      ],
      "execution_count": 0,
      "outputs": []
    },
    {
      "metadata": {
        "id": "llOeKC5U0T-m",
        "colab_type": "code",
        "colab": {}
      },
      "cell_type": "code",
      "source": [
        "#df.drop(['VALUE'], axis=1, inplace=True)"
      ],
      "execution_count": 0,
      "outputs": []
    },
    {
      "metadata": {
        "id": "18EL8mQQ6Lsk",
        "colab_type": "text"
      },
      "cell_type": "markdown",
      "source": [
        "**One hot encoding for categorial feature**"
      ]
    },
    {
      "metadata": {
        "id": "vSTgybl45gpQ",
        "colab_type": "code",
        "outputId": "6e72ae9c-4e15-435c-d075-6c0dcb03ec7f",
        "colab": {
          "base_uri": "https://localhost:8080/",
          "height": 102
        }
      },
      "cell_type": "code",
      "source": [
        "df=pd.get_dummies(data=df, columns=['REASON', 'JOB'])\n",
        "df.columns"
      ],
      "execution_count": 0,
      "outputs": [
        {
          "output_type": "execute_result",
          "data": {
            "text/plain": [
              "Index(['BAD', 'LOAN', 'MORTDUE', 'VALUE', 'YOJ', 'DEROG', 'DELINQ', 'CLAGE',\n",
              "       'NINQ', 'CLNO', 'DEBTINC', 'REASON_DebtCon', 'REASON_HomeImp',\n",
              "       'JOB_Mgr', 'JOB_Office', 'JOB_Other', 'JOB_ProfExe', 'JOB_Sales',\n",
              "       'JOB_Self'],\n",
              "      dtype='object')"
            ]
          },
          "metadata": {
            "tags": []
          },
          "execution_count": 27
        }
      ]
    },
    {
      "metadata": {
        "id": "YBghDNHa74jg",
        "colab_type": "text"
      },
      "cell_type": "markdown",
      "source": [
        "### **Feature selection**\n",
        "\n",
        "We will use the following for this purpose :\n",
        "\n",
        "**Pearson correlation**\n",
        "\n",
        "**chi square test **\n",
        "\n",
        "### ** First plot Correlation matrix for numerical features**"
      ]
    },
    {
      "metadata": {
        "id": "_5_6NZ0J7ts8",
        "colab_type": "code",
        "outputId": "b243e9b8-462e-4d3e-a22f-0671e457e2bc",
        "colab": {
          "base_uri": "https://localhost:8080/",
          "height": 388
        }
      },
      "cell_type": "code",
      "source": [
        "df1=df.loc[:, :'DEBTINC']\n",
        "ax=sns.heatmap(df1.corr(),annot=True,fmt='0.2f',cmap='coolwarm')"
      ],
      "execution_count": 0,
      "outputs": [
        {
          "output_type": "display_data",
          "data": {
            "image/png": "[encoded data removed]",
            "text/plain": [
              "<Figure size 576x396 with 2 Axes>"
            ]
          },
          "metadata": {
            "tags": []
          }
        }
      ]
    },
    {
      "metadata": {
        "id": "niIsQOaSO8ms",
        "colab_type": "text"
      },
      "cell_type": "markdown",
      "source": [
        "As we can see 'VALUE',  'MORTDUE' are **highly correlated. we are removing** 'MORTDUE' from dataset"
      ]
    },
    {
      "metadata": {
        "id": "PzFTvxXB5SRV",
        "colab_type": "code",
        "colab": {}
      },
      "cell_type": "code",
      "source": [
        "df.drop(['MORTDUE'], axis=1, inplace=True)"
      ],
      "execution_count": 0,
      "outputs": []
    },
    {
      "metadata": {
        "id": "Ykz5uc8AJcWG",
        "colab_type": "code",
        "colab": {}
      },
      "cell_type": "code",
      "source": [
        "y = df['BAD']\n",
        "df.drop(['BAD'], axis=1, inplace=True)"
      ],
      "execution_count": 0,
      "outputs": []
    },
    {
      "metadata": {
        "id": "FbDoiExd2IfH",
        "colab_type": "text"
      },
      "cell_type": "markdown",
      "source": [
        "**Chi-Square based feature selection**"
      ]
    },
    {
      "metadata": {
        "id": "FS2_DkRgPaEP",
        "colab_type": "text"
      },
      "cell_type": "markdown",
      "source": [
        "we will use Chi square base feature selection method for most important feature."
      ]
    },
    {
      "metadata": {
        "id": "JkKZ-7Yx-bXK",
        "colab_type": "code",
        "outputId": "f1bbb0a7-422d-4e0e-be4c-7e039444c28c",
        "colab": {
          "base_uri": "https://localhost:8080/",
          "height": 204
        }
      },
      "cell_type": "code",
      "source": [
        "from sklearn.feature_selection import SelectKBest\n",
        "from sklearn.feature_selection import chi2\n",
        "\n",
        "\n",
        "chi2_selector = SelectKBest(chi2, k=12)\n",
        "X_kbest = chi2_selector.fit_transform(df,y)\n",
        "df_chi = pd.DataFrame(X_kbest)\n",
        "df_chi.head()"
      ],
      "execution_count": 0,
      "outputs": [
        {
          "output_type": "execute_result",
          "data": {
            "text/html": [
              "<div>\n",
              "<style scoped>\n",
              "    .dataframe tbody tr th:only-of-type {\n",
              "        vertical-align: middle;\n",
              "    }\n",
              "\n",
              "    .dataframe tbody tr th {\n",
              "        vertical-align: top;\n",
              "    }\n",
              "\n",
              "    .dataframe thead th {\n",
              "        text-align: right;\n",
              "    }\n",
              "</style>\n",
              "<table border=\"1\" class=\"dataframe\">\n",
              "  <thead>\n",
              "    <tr style=\"text-align: right;\">\n",
              "      <th></th>\n",
              "      <th>0</th>\n",
              "      <th>1</th>\n",
              "      <th>2</th>\n",
              "      <th>3</th>\n",
              "      <th>4</th>\n",
              "      <th>5</th>\n",
              "      <th>6</th>\n",
              "      <th>7</th>\n",
              "      <th>8</th>\n",
              "      <th>9</th>\n",
              "      <th>10</th>\n",
              "      <th>11</th>\n",
              "    </tr>\n",
              "  </thead>\n",
              "  <tbody>\n",
              "    <tr>\n",
              "      <th>0</th>\n",
              "      <td>1100.0</td>\n",
              "      <td>39025.000000</td>\n",
              "      <td>2.442347</td>\n",
              "      <td>0.0</td>\n",
              "      <td>0.0</td>\n",
              "      <td>94.366667</td>\n",
              "      <td>1.000000</td>\n",
              "      <td>33.779915</td>\n",
              "      <td>0.0</td>\n",
              "      <td>0.0</td>\n",
              "      <td>0.0</td>\n",
              "      <td>0.0</td>\n",
              "    </tr>\n",
              "    <tr>\n",
              "      <th>1</th>\n",
              "      <td>1300.0</td>\n",
              "      <td>68400.000000</td>\n",
              "      <td>2.079442</td>\n",
              "      <td>0.0</td>\n",
              "      <td>2.0</td>\n",
              "      <td>121.833333</td>\n",
              "      <td>0.000000</td>\n",
              "      <td>33.779915</td>\n",
              "      <td>0.0</td>\n",
              "      <td>0.0</td>\n",
              "      <td>0.0</td>\n",
              "      <td>0.0</td>\n",
              "    </tr>\n",
              "    <tr>\n",
              "      <th>2</th>\n",
              "      <td>1500.0</td>\n",
              "      <td>16700.000000</td>\n",
              "      <td>1.609438</td>\n",
              "      <td>0.0</td>\n",
              "      <td>0.0</td>\n",
              "      <td>149.466667</td>\n",
              "      <td>1.000000</td>\n",
              "      <td>33.779915</td>\n",
              "      <td>0.0</td>\n",
              "      <td>0.0</td>\n",
              "      <td>0.0</td>\n",
              "      <td>0.0</td>\n",
              "    </tr>\n",
              "    <tr>\n",
              "      <th>3</th>\n",
              "      <td>1500.0</td>\n",
              "      <td>101776.048741</td>\n",
              "      <td>2.294782</td>\n",
              "      <td>0.0</td>\n",
              "      <td>0.0</td>\n",
              "      <td>179.766275</td>\n",
              "      <td>1.186055</td>\n",
              "      <td>33.779915</td>\n",
              "      <td>0.0</td>\n",
              "      <td>0.0</td>\n",
              "      <td>0.0</td>\n",
              "      <td>0.0</td>\n",
              "    </tr>\n",
              "    <tr>\n",
              "      <th>4</th>\n",
              "      <td>1700.0</td>\n",
              "      <td>112000.000000</td>\n",
              "      <td>1.386294</td>\n",
              "      <td>0.0</td>\n",
              "      <td>0.0</td>\n",
              "      <td>93.333333</td>\n",
              "      <td>0.000000</td>\n",
              "      <td>33.779915</td>\n",
              "      <td>1.0</td>\n",
              "      <td>0.0</td>\n",
              "      <td>0.0</td>\n",
              "      <td>0.0</td>\n",
              "    </tr>\n",
              "  </tbody>\n",
              "</table>\n",
              "</div>"
            ],
            "text/plain": [
              "       0              1         2    3    4           5         6          7   \\\n",
              "0  1100.0   39025.000000  2.442347  0.0  0.0   94.366667  1.000000  33.779915   \n",
              "1  1300.0   68400.000000  2.079442  0.0  2.0  121.833333  0.000000  33.779915   \n",
              "2  1500.0   16700.000000  1.609438  0.0  0.0  149.466667  1.000000  33.779915   \n",
              "3  1500.0  101776.048741  2.294782  0.0  0.0  179.766275  1.186055  33.779915   \n",
              "4  1700.0  112000.000000  1.386294  0.0  0.0   93.333333  0.000000  33.779915   \n",
              "\n",
              "    8    9    10   11  \n",
              "0  0.0  0.0  0.0  0.0  \n",
              "1  0.0  0.0  0.0  0.0  \n",
              "2  0.0  0.0  0.0  0.0  \n",
              "3  0.0  0.0  0.0  0.0  \n",
              "4  1.0  0.0  0.0  0.0  "
            ]
          },
          "metadata": {
            "tags": []
          },
          "execution_count": 30
        }
      ]
    },
    {
      "metadata": {
        "id": "kCDIud1cd2CP",
        "colab_type": "text"
      },
      "cell_type": "markdown",
      "source": [
        "We are choosing best 12 feature form chi square test."
      ]
    },
    {
      "metadata": {
        "id": "QijMft5QPobV",
        "colab_type": "text"
      },
      "cell_type": "markdown",
      "source": [
        "**Later on we will use Model based most feature_importance  those will be part of feature selection.**"
      ]
    },
    {
      "metadata": {
        "id": "cE1eEcq3EOS3",
        "colab_type": "text"
      },
      "cell_type": "markdown",
      "source": [
        "### Data Partition "
      ]
    },
    {
      "metadata": {
        "id": "UmH2AuoTcVQk",
        "colab_type": "code",
        "colab": {}
      },
      "cell_type": "code",
      "source": [
        "from sklearn.model_selection import train_test_split\n",
        "x_tr,x_te,y_tr,y_te = train_test_split(df_chi,y,test_size = .33,random_state=1)"
      ],
      "execution_count": 0,
      "outputs": []
    },
    {
      "metadata": {
        "id": "8AGptKiIEedu",
        "colab_type": "text"
      },
      "cell_type": "markdown",
      "source": [
        "for the training part of data set we can use oversampling method."
      ]
    },
    {
      "metadata": {
        "id": "TFFch4672ba0",
        "colab_type": "text"
      },
      "cell_type": "markdown",
      "source": [
        "**SMOTE based oversampling technique**"
      ]
    },
    {
      "metadata": {
        "id": "YcX-bzuCQJgl",
        "colab_type": "text"
      },
      "cell_type": "markdown",
      "source": [
        "As we have earlier seen data is **imbalance** so for some model pipe. it tries to give better results."
      ]
    },
    {
      "metadata": {
        "id": "O2IRpQ5Qbtm7",
        "colab_type": "code",
        "colab": {}
      },
      "cell_type": "code",
      "source": [
        "from imblearn.over_sampling import SMOTE\n",
        "sm = SMOTE(random_state=2)\n",
        "x_tr_sm, y_tr_sm = sm.fit_sample(x_tr, y_tr.ravel())"
      ],
      "execution_count": 0,
      "outputs": []
    },
    {
      "metadata": {
        "id": "BBoJIWKFcv5U",
        "colab_type": "code",
        "outputId": "cc0b61e3-5edb-415d-c6c7-b4a88c1e7cd6",
        "colab": {
          "base_uri": "https://localhost:8080/",
          "height": 51
        }
      },
      "cell_type": "code",
      "source": [
        "print(\"After OverSampling, counts of label '1': {}\".format(sum(y_tr_sm==1)))\n",
        "print(\"After OverSampling, counts of label '0': {}\".format(sum(y_tr_sm==0)))"
      ],
      "execution_count": 0,
      "outputs": [
        {
          "output_type": "stream",
          "text": [
            "After OverSampling, counts of label '1': 3210\n",
            "After OverSampling, counts of label '0': 3210\n"
          ],
          "name": "stdout"
        }
      ]
    },
    {
      "metadata": {
        "id": "5qjj8AMJQmEX",
        "colab_type": "text"
      },
      "cell_type": "markdown",
      "source": [
        "**Now we have two kind of dataset-**\n",
        "\n",
        "**1.Origional Imbalance dataset**\n",
        "\n",
        "**2.SMOTE base oversampled dataset**\n",
        "\n",
        "We will fit both kind of dataset over a model. which ever gives good result we will proceed for that part."
      ]
    },
    {
      "metadata": {
        "id": "aOo8V14A2pJ4",
        "colab_type": "text"
      },
      "cell_type": "markdown",
      "source": [
        "## **Model building and selection**"
      ]
    },
    {
      "metadata": {
        "id": "fCvi6LB-NOgG",
        "colab_type": "text"
      },
      "cell_type": "markdown",
      "source": [
        "**Comment for model selection**\n",
        "\n",
        "As we can see the dataset above we are able to convert feature in normal way and reduce the features. Earlier dataset consist a amont  of outliers, so not moving with SVM. \n",
        "\n",
        "We can go with logistic regression ,Tree based model and boosting algorithms"
      ]
    },
    {
      "metadata": {
        "id": "ag6IhwM42uWG",
        "colab_type": "text"
      },
      "cell_type": "markdown",
      "source": [
        "**1.Logistic Regression**"
      ]
    },
    {
      "metadata": {
        "id": "yz7J7q--Rk2_",
        "colab_type": "text"
      },
      "cell_type": "markdown",
      "source": [
        "Here we are assuming a cutoff of 0.5 as threshold, once we able to select better model then we will play with probablity threshold."
      ]
    },
    {
      "metadata": {
        "id": "aCRe4_5lHXZ7",
        "colab_type": "code",
        "outputId": "e849211a-044f-44b8-d8b3-191ac5e05987",
        "colab": {
          "base_uri": "https://localhost:8080/",
          "height": 275
        }
      },
      "cell_type": "code",
      "source": [
        "from sklearn.model_selection import train_test_split\n",
        "from sklearn.linear_model import LogisticRegression\n",
        "from sklearn.tree import DecisionTreeClassifier\n",
        "from sklearn.metrics import accuracy_score, f1_score, precision_score, recall_score\n",
        "from sklearn.metrics import confusion_matrix\n",
        "from sklearn.preprocessing import StandardScaler\n",
        "\n",
        "\n",
        "logreg = LogisticRegression()\n",
        "logreg.fit(x_tr_sm,y_tr_sm)\n",
        "\n",
        "y_pred_proba = logreg.predict_proba(x_te)\n",
        "dum=pd.DataFrame(y_pred_proba[:,1])\n",
        "print(dum.head(5))\n",
        "\n",
        "y_pre = logreg.predict(x_te)\n",
        "a5 = accuracy_score(y_te,y_pre)\n",
        "f5 = f1_score(y_te, y_pre, average=\"macro\")\n",
        "p5 = precision_score(y_te, y_pre, average=\"macro\")\n",
        "r5 = recall_score(y_te, y_pre, average=\"macro\")\n",
        "print(\"accuracy score : \",a5)\n",
        "print(\"f1 score : \",f5)\n",
        "print(\"precision score : \",p5)\n",
        "print(\"recall score : \",r5)\n",
        "\n",
        "# Computing Confusion matrix for the above algorithm\n",
        "\n",
        "cnf_matrix = confusion_matrix(y_te, y_pre)\n",
        "np.set_printoptions(precision=2)\n",
        "print(cnf_matrix)\n",
        "# Plot non-normalized confusion matrix\n",
        "#plt.figure()\n",
        "#plot_confusion_matrix(cnf_matrix, classes=[\"BAD\"],\n",
        "# title='Confusion matrix - Logistic Regression Algorithm with chi2 test')\n",
        "\n",
        "#plt.show()"
      ],
      "execution_count": 0,
      "outputs": [
        {
          "output_type": "stream",
          "text": [
            "          0\n",
            "0  0.988859\n",
            "1  0.146216\n",
            "2  0.475800\n",
            "3  0.083643\n",
            "4  0.331319\n",
            "accuracy score :  0.7707168276563294\n",
            "f1 score :  0.6912318988126005\n",
            "precision score :  0.6776673346389155\n",
            "recall score :  0.7215920387019815\n",
            "[[1257  304]\n",
            " [ 147  259]]\n"
          ],
          "name": "stdout"
        },
        {
          "output_type": "stream",
          "text": [
            "/usr/local/lib/python3.6/dist-packages/sklearn/linear_model/logistic.py:433: FutureWarning: Default solver will be changed to 'lbfgs' in 0.22. Specify a solver to silence this warning.\n",
            "  FutureWarning)\n"
          ],
          "name": "stderr"
        }
      ]
    },
    {
      "metadata": {
        "id": "2qS5o3igRMB7",
        "colab_type": "text"
      },
      "cell_type": "markdown",
      "source": [
        "Logistic Regression is giving better results **in case over-sampled data**. but **not as good as **upcomming model.\n",
        "\n",
        "Logistic Regression got above results only after feature selection process."
      ]
    },
    {
      "metadata": {
        "id": "hqRY79odTRS9",
        "colab_type": "text"
      },
      "cell_type": "markdown",
      "source": [
        "## Comment on Accuracy Score selection\n",
        "\n",
        "Generally Accuracy test can be used to evaluate algorithms. But in this case, using the MAJORITY CLASS(0) to predict the output will give high(79.2%) accuracy. but we would end up **PREDICTING ALL 1's AS O's INSTEAD**.\n",
        "\n",
        "we want to decrease the number of **FN or FP** error as We predict that credit will be repaid but it actually being a fraudant one. as per busniess understanding we can tackle up with Recall or Precision optimization.\n",
        "\n",
        "hence we will performance metrics must be used to evaluate the model. those would be\n",
        "**F1 score , \n",
        "Recall ,\n",
        "Precision **Confusion matrix parameter."
      ]
    },
    {
      "metadata": {
        "id": "dY7rlGOYxKw3",
        "colab_type": "code",
        "colab": {}
      },
      "cell_type": "code",
      "source": [
        "y_pred_proba = logreg.predict_proba(x_te)\n",
        "from sklearn import metrics\n",
        "from sklearn.metrics import roc_auc_score\n",
        "\n",
        "preds = y_pred_proba[:,1]\n",
        "fpr, tpr, threshold = metrics.roc_curve(y_te, preds)\n",
        "roc_auc = metrics.auc(fpr, tpr)\n",
        "\n",
        "print(\"ROC AUC score for model': {}\".format(roc_auc))\n",
        "import matplotlib.pyplot as plt\n",
        "plt.title('Receiver Operating Characteristic')\n",
        "plt.plot(fpr, tpr, 'b', label = 'AUC = %0.2f' % roc_auc)\n",
        "plt.legend(loc = 'lower right')\n",
        "plt.plot([0, 1], [0, 1],'r--')\n",
        "plt.xlim([0, 1])\n",
        "plt.ylim([0, 1])\n",
        "plt.ylabel('True Positive Rate')\n",
        "plt.xlabel('False Positive Rate')\n",
        "plt.show()"
      ],
      "execution_count": 0,
      "outputs": []
    },
    {
      "metadata": {
        "id": "b4MZ5rqW24E-",
        "colab_type": "text"
      },
      "cell_type": "markdown",
      "source": [
        "### **Decision Tree Model**"
      ]
    },
    {
      "metadata": {
        "id": "6XDHG013ICpT",
        "colab_type": "text"
      },
      "cell_type": "markdown",
      "source": [
        "**Default assumption:**\n",
        "\n",
        "**The threshold is defaultly set to .5 in these Models**\n",
        "\n",
        "**Obviously,changing the threshold affects the performance of the model and this can be observed in the next section.** "
      ]
    },
    {
      "metadata": {
        "id": "0ydSvct3KEt4",
        "colab_type": "code",
        "outputId": "b865d506-8f2d-454d-bcce-b2efd4eb3cab",
        "colab": {
          "base_uri": "https://localhost:8080/",
          "height": 119
        }
      },
      "cell_type": "code",
      "source": [
        "clf_tree=DecisionTreeClassifier()\n",
        "clf_tree.max_depth = 10\n",
        "clf_tree.fit(x_tr,y_tr)\n",
        "y_pre = clf_tree.predict(x_te)\n",
        "a8 = accuracy_score(y_te,y_pre)\n",
        "f8 = f1_score(y_te, y_pre, average=\"macro\")\n",
        "p8 = precision_score(y_te, y_pre, average=\"macro\")\n",
        "r8 = recall_score(y_te, y_pre, average=\"macro\")\n",
        "print(\"accuracy score : \",a8)\n",
        "print(\"f1 score : \",f8)\n",
        "print(\"precision score : \",p8)\n",
        "print(\"recall score : \",r8)\n",
        "# Computing Confusion matrix for the above algorithm\n",
        "\n",
        "cnf_matrix = confusion_matrix(y_te, y_pre)\n",
        "print(cnf_matrix)\n"
      ],
      "execution_count": 0,
      "outputs": [
        {
          "output_type": "stream",
          "text": [
            "accuracy score :  0.8820538891713269\n",
            "f1 score :  0.8040607846774248\n",
            "precision score :  0.8376679189435337\n",
            "recall score :  0.7808047449689632\n",
            "[[1488   73]\n",
            " [ 159  247]]\n"
          ],
          "name": "stdout"
        }
      ]
    },
    {
      "metadata": {
        "id": "wwd4yhenHSzB",
        "colab_type": "text"
      },
      "cell_type": "markdown",
      "source": [
        "**Decision Tree dominated over Logistic Regression**"
      ]
    },
    {
      "metadata": {
        "id": "1U84A_A22_Di",
        "colab_type": "text"
      },
      "cell_type": "markdown",
      "source": [
        "**Random Forest**"
      ]
    },
    {
      "metadata": {
        "id": "e3o1iM9IMqQi",
        "colab_type": "code",
        "outputId": "73159547-27e0-4565-cc0e-5563b55a914c",
        "colab": {
          "base_uri": "https://localhost:8080/",
          "height": 190
        }
      },
      "cell_type": "code",
      "source": [
        "from sklearn.ensemble import RandomForestClassifier\n",
        "random_forest = RandomForestClassifier(n_estimators=200, min_samples_leaf=10, min_samples_split=2, criterion='entropy', \n",
        "                               max_depth=None, bootstrap=True, max_features=9)\n",
        "from sklearn.preprocessing import StandardScaler\n",
        "\n",
        "scaler = StandardScaler()\n",
        "scaled_data = scaler.fit_transform(df)\n",
        "\n",
        "x_tr,x_te,y_tr,y_te = train_test_split(scaled_data,y,test_size = .33,random_state=1)\n",
        "random_forest.fit(x_tr, y_tr)\n",
        "\n",
        "y_pred = random_forest.predict(x_te)\n",
        "a = accuracy_score(y_te,y_pre)\n",
        "f = f1_score(y_te, y_pre, average=\"macro\")\n",
        "p = precision_score(y_te, y_pre, average=\"macro\")\n",
        "r = recall_score(y_te, y_pre, average=\"macro\")\n",
        "#print(\"accuracy score : \",a)\n",
        "print(\"f1 score : \",f)\n",
        "print(\"precision score : \",p)\n",
        "print(\"recall score : \",r)\n",
        "\n",
        "\n",
        "cnf_matrix = confusion_matrix(y_te, y_pre)\n",
        "print(cnf_matrix)"
      ],
      "execution_count": 0,
      "outputs": [
        {
          "output_type": "stream",
          "text": [
            "/usr/local/lib/python3.6/dist-packages/sklearn/preprocessing/data.py:625: DataConversionWarning: Data with input dtype uint8, int64, float64 were all converted to float64 by StandardScaler.\n",
            "  return self.partial_fit(X, y)\n",
            "/usr/local/lib/python3.6/dist-packages/sklearn/base.py:462: DataConversionWarning: Data with input dtype uint8, int64, float64 were all converted to float64 by StandardScaler.\n",
            "  return self.fit(X, **fit_params).transform(X)\n"
          ],
          "name": "stderr"
        },
        {
          "output_type": "stream",
          "text": [
            "f1 score :  0.8040607846774248\n",
            "precision score :  0.8376679189435337\n",
            "recall score :  0.7808047449689632\n",
            "[[1488   73]\n",
            " [ 159  247]]\n"
          ],
          "name": "stdout"
        }
      ]
    },
    {
      "metadata": {
        "id": "PeGEvds3FpIJ",
        "colab_type": "text"
      },
      "cell_type": "markdown",
      "source": [
        "Here we are getting better results."
      ]
    },
    {
      "metadata": {
        "id": "HkpB_HaKFw4Y",
        "colab_type": "text"
      },
      "cell_type": "markdown",
      "source": [
        "### Let's plot ROC For the same."
      ]
    },
    {
      "metadata": {
        "id": "YUg6tovsKivw",
        "colab_type": "code",
        "outputId": "4cb68acd-6683-4051-b767-fd05d41ef62c",
        "colab": {
          "base_uri": "https://localhost:8080/",
          "height": 311
        }
      },
      "cell_type": "code",
      "source": [
        "from sklearn import metrics\n",
        "from sklearn.metrics import roc_auc_score\n",
        "probs = random_forest.predict_proba(x_te)\n",
        "preds = probs[:,1]\n",
        "fpr, tpr, threshold = metrics.roc_curve(y_te, preds)\n",
        "roc_auc = metrics.auc(fpr, tpr)\n",
        "\n",
        "print(\"ROC AUC score for model': {}\".format(roc_auc))\n",
        "import matplotlib.pyplot as plt\n",
        "plt.figure(figsize=(5,4))\n",
        "plt.title('Receiver Operating Characteristic')\n",
        "plt.plot(fpr, tpr, 'b', label = 'AUC = %0.2f' % roc_auc)\n",
        "plt.legend(loc = 'lower right')\n",
        "plt.plot([0, 1], [0, 1],'r--')\n",
        "plt.xlim([0, 1])\n",
        "plt.ylim([0, 1])\n",
        "plt.ylabel('True Positive Rate')\n",
        "plt.xlabel('False Positive Rate')\n",
        "plt.show()"
      ],
      "execution_count": 0,
      "outputs": [
        {
          "output_type": "stream",
          "text": [
            "ROC AUC score for model': 0.9230788650700733\n"
          ],
          "name": "stdout"
        },
        {
          "output_type": "display_data",
          "data": {
            "image/png": "[encoded data removed]",
            "text/plain": [
              "<Figure size 360x288 with 1 Axes>"
            ]
          },
          "metadata": {
            "tags": []
          }
        }
      ]
    },
    {
      "metadata": {
        "id": "ukXb-oiqWNYi",
        "colab_type": "text"
      },
      "cell_type": "markdown",
      "source": [
        "### K-fold cross validation to improve performance of model."
      ]
    },
    {
      "metadata": {
        "id": "RLfrTuyFOowp",
        "colab_type": "code",
        "outputId": "21f6e7bf-b470-455c-8800-0204dcd1795f",
        "colab": {
          "base_uri": "https://localhost:8080/",
          "height": 68
        }
      },
      "cell_type": "code",
      "source": [
        "from sklearn.model_selection import KFold,cross_val_score\n",
        "#k_fold = KFold(len(y), n_splits=5, shuffle=True, random_state=0)\n",
        "K=3\n",
        "k_fold = KFold(n_splits = K, random_state = 0, shuffle = True)\n",
        "#clf = RandomForestClassifier(n_estimators=est, min_samples_split=min_samples)\n",
        "forest = RandomForestClassifier(n_estimators=200, min_samples_leaf=10, min_samples_split=2, criterion='entropy', \n",
        "                               max_depth=None, bootstrap=True, max_features=9)\n",
        "scoring = 'precision_macro'\n",
        "results = cross_val_score(forest, df_chi, y, cv=k_fold, n_jobs=1, scoring=scoring)\n",
        "print(results)\n",
        "print(\"Precision Score in 3 fold CV': {}\".format(results.mean()))\n",
        "results_1 = cross_val_score(forest, df_chi, y, cv=k_fold, n_jobs=1, scoring='recall_macro')\n",
        "print(\"Recall Score in 3 fold CV': {}\".format(results_1.mean()))"
      ],
      "execution_count": 0,
      "outputs": [
        {
          "output_type": "stream",
          "text": [
            "[0.84 0.84 0.85]\n",
            "Precision Score in 3 fold CV': 0.8419494732464274\n",
            "Recall Score in 3 fold CV': 0.7950440316391854\n"
          ],
          "name": "stdout"
        }
      ]
    },
    {
      "metadata": {
        "id": "ELzqlDVvSryf",
        "colab_type": "text"
      },
      "cell_type": "markdown",
      "source": [
        "Slightly impove in score using k fold."
      ]
    },
    {
      "metadata": {
        "id": "8Km41rUVWbuV",
        "colab_type": "text"
      },
      "cell_type": "markdown",
      "source": [
        "## Model over various threshold "
      ]
    },
    {
      "metadata": {
        "id": "KzoW7ikqF90O",
        "colab_type": "text"
      },
      "cell_type": "markdown",
      "source": [
        "We can change the threshold of the model as per our busniess understanding and by looking precision recall score below."
      ]
    },
    {
      "metadata": {
        "id": "LNHBREN4k1FY",
        "colab_type": "code",
        "outputId": "f852081b-3304-4973-f577-748938271663",
        "colab": {
          "base_uri": "https://localhost:8080/",
          "height": 187
        }
      },
      "cell_type": "code",
      "source": [
        "forest.fit(x_tr,y_tr)\n",
        "y_pred_proba = forest.predict_proba(x_te)\n",
        "\n",
        "thresholds = [0.1,0.2,0.3,0.4,0.5,0.6,0.7,0.8,0.9]\n",
        "recall,prec,acc=[],[],[]\n",
        "for i in thresholds:\n",
        "  y_test_predictions_high_recall = y_pred_proba[:,1] >= i\n",
        "  cnf_matrix = confusion_matrix(y_te,y_test_predictions_high_recall)\n",
        "  rec1 = recall_score(y_te, y_test_predictions_high_recall)\n",
        "  recall.append(rec1)\n",
        "  pres1=precision_score(y_te, y_test_predictions_high_recall)\n",
        "  prec.append(pres1)\n",
        "  acc.append(accuracy_score(y_te,y_test_predictions_high_recall))\n",
        "  #print(\"Recall metric in the testing dataset: \",rec1)\n",
        "\n",
        "dash=pd.DataFrame({'Threshold':thresholds,'Recall':recall,'Precision':prec, 'Accuracy':acc})\n",
        "print(dash)"
      ],
      "execution_count": 0,
      "outputs": [
        {
          "output_type": "stream",
          "text": [
            "   Accuracy  Precision    Recall  Threshold\n",
            "0  0.762583   0.462668  0.931034        0.1\n",
            "1  0.860702   0.620879  0.834975        0.2\n",
            "2  0.884596   0.704805  0.758621        0.3\n",
            "3  0.891713   0.762943  0.689655        0.4\n",
            "4  0.890696   0.819398  0.603448        0.5\n",
            "5  0.882562   0.857143  0.517241        0.6\n",
            "6  0.863244   0.874317  0.394089        0.7\n",
            "7  0.845450   0.955357  0.263547        0.8\n",
            "8  0.808338   1.000000  0.071429        0.9\n"
          ],
          "name": "stdout"
        }
      ]
    },
    {
      "metadata": {
        "id": "HQcrjvAQJIRl",
        "colab_type": "text"
      },
      "cell_type": "markdown",
      "source": [
        "The values of recall and accuracy vary with the threshold selected.\n",
        "\n",
        "Based on the required accuracy and recall values , one has to decide and select a threshold."
      ]
    },
    {
      "metadata": {
        "id": "QO3Da672GUNJ",
        "colab_type": "text"
      },
      "cell_type": "markdown",
      "source": [
        "**Plot the above collected data to visulize**"
      ]
    },
    {
      "metadata": {
        "id": "msdujiu96rC_",
        "colab_type": "code",
        "outputId": "2732fb98-b5aa-4f62-c369-5c30fe3a292a",
        "colab": {
          "base_uri": "https://localhost:8080/",
          "height": 364
        }
      },
      "cell_type": "code",
      "source": [
        "plt.plot( 'Threshold', 'Precision', data=dash)\n",
        "plt.plot( 'Threshold', 'Recall', data=dash, color='olive')\n",
        "plt.plot( 'Threshold', 'Accuracy', data=dash, )\n",
        "plt.legend()\n",
        "\n",
        "#ax = sns.lineplot(x='Threshold', y='Precision', data=dash)"
      ],
      "execution_count": 0,
      "outputs": [
        {
          "output_type": "execute_result",
          "data": {
            "text/plain": [
              "<matplotlib.legend.Legend at 0x7f65aa9c6b00>"
            ]
          },
          "metadata": {
            "tags": []
          },
          "execution_count": 41
        },
        {
          "output_type": "display_data",
          "data": {
            "image/png": "[encoded data removed]",
            "text/plain": [
              "<Figure size 576x396 with 1 Axes>"
            ]
          },
          "metadata": {
            "tags": []
          }
        }
      ]
    },
    {
      "metadata": {
        "id": "lgARCMHNGnlk",
        "colab_type": "text"
      },
      "cell_type": "markdown",
      "source": [
        "from graph we can set optimum value of threshold as per requirement."
      ]
    },
    {
      "metadata": {
        "id": "O3_Gch9n3IWd",
        "colab_type": "text"
      },
      "cell_type": "markdown",
      "source": [
        "### Let's check with Light Boosting  LGB Model"
      ]
    },
    {
      "metadata": {
        "id": "eMtl2mRnY3yl",
        "colab_type": "code",
        "outputId": "a5a730dd-58bc-4e7b-d27b-21e714434748",
        "colab": {
          "base_uri": "https://localhost:8080/",
          "height": 153
        }
      },
      "cell_type": "code",
      "source": [
        "import lightgbm as lgb\n",
        "model = lgb.LGBMClassifier(objective='binary', boosting_type = 'goss', n_estimators = 10000, class_weight = 'balanced')\n",
        "\n",
        "for i in range(2):\n",
        "    \n",
        "    # Split into training and validation set\n",
        "    #train_features, valid_features, train_y, valid_y = train_test_split(train, train_labels, test_size = 0.25, random_state = i)\n",
        "    \n",
        "    # Train using early stopping\n",
        "    model.fit(x_tr, y_tr, early_stopping_rounds=100, eval_set = [(x_te, y_te)], \n",
        "              eval_metric = 'auc', verbose = 200)\n",
        "    "
      ],
      "execution_count": 0,
      "outputs": [
        {
          "output_type": "stream",
          "text": [
            "Training until validation scores don't improve for 100 rounds.\n",
            "[200]\tvalid_0's auc: 0.950434\tvalid_0's binary_logloss: 0.217307\n",
            "Early stopping, best iteration is:\n",
            "[195]\tvalid_0's auc: 0.950613\tvalid_0's binary_logloss: 0.216592\n",
            "Training until validation scores don't improve for 100 rounds.\n",
            "[200]\tvalid_0's auc: 0.950434\tvalid_0's binary_logloss: 0.217307\n",
            "Early stopping, best iteration is:\n",
            "[195]\tvalid_0's auc: 0.950613\tvalid_0's binary_logloss: 0.216592\n"
          ],
          "name": "stdout"
        }
      ]
    },
    {
      "metadata": {
        "id": "JJzSbClhPE4r",
        "colab_type": "text"
      },
      "cell_type": "markdown",
      "source": [
        "Whooaa!!"
      ]
    },
    {
      "metadata": {
        "id": "0tpqSMCgcyQQ",
        "colab_type": "text"
      },
      "cell_type": "markdown",
      "source": [
        "We can think for the LGB model also we good set of parameter and hyper parameter tuning."
      ]
    },
    {
      "metadata": {
        "id": "aNqs-oHkblwa",
        "colab_type": "text"
      },
      "cell_type": "markdown",
      "source": [
        "**Comment**\n",
        "\n",
        "Performance of the modeld mentioned can be **further improved**  as part of **Tuning Hyer-parameter** and a good Feature engineering as per understanding.\n",
        "\n",
        "I am leaving that part as i am occupied with other activities and cetain time constraints.\n",
        "\n",
        "Hopefully you like the rest part."
      ]
    },
    {
      "metadata": {
        "id": "gBlRAq3wcVCG",
        "colab_type": "text"
      },
      "cell_type": "markdown",
      "source": [
        "## Thanks"
      ]
    }
  ]
}